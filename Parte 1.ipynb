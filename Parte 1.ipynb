{
 "cells": [
  {
   "cell_type": "code",
   "execution_count": 2,
   "id": "0be491e7",
   "metadata": {},
   "outputs": [],
   "source": [
    "from scapy.all import *\n",
    "import pandas as pd \n",
    "import numpy as np \n",
    "import binascii\n",
    "import seaborn as sns\n",
    "sns.set(color_codes = True)\n",
    "%matplotlib inline\n",
    "from scapy.layers.inet import *"
   ]
  },
  {
   "cell_type": "markdown",
   "id": "22a5c944",
   "metadata": {},
   "source": [
    "# Laboratorio 5\n",
    "### Ricardo Valenzuela - Sara Zavala"
   ]
  },
  {
   "cell_type": "markdown",
   "id": "f38d3cb4",
   "metadata": {},
   "source": [
    "## Cargar archivo pcap"
   ]
  },
  {
   "cell_type": "code",
   "execution_count": 7,
   "id": "eefecd60",
   "metadata": {},
   "outputs": [],
   "source": [
    "pcap_file = \"analisis_paquetes.pcap\""
   ]
  },
  {
   "cell_type": "code",
   "execution_count": 8,
   "id": "30e14df6",
   "metadata": {},
   "outputs": [],
   "source": [
    "info = rdpcap(pcap_file)"
   ]
  },
  {
   "cell_type": "markdown",
   "id": "b87f7104",
   "metadata": {},
   "source": [
    "### Capturar 100 paquetes"
   ]
  },
  {
   "cell_type": "code",
   "execution_count": 9,
   "id": "40409872",
   "metadata": {},
   "outputs": [
    {
     "name": "stdout",
     "output_type": "stream",
     "text": [
      "Tipo pcap:  <class 'scapy.plist.PacketList'>\n",
      "Largo pcap:  100\n",
      "<Sniffed: TCP:67 UDP:29 ICMP:0 Other:4>\n"
     ]
    }
   ],
   "source": [
    "amount_of_packets = 100\n",
    "pcap = sniff(count = amount_of_packets)\n",
    "print(\"Tipo pcap: \",type(pcap))\n",
    "print(\"Largo pcap: \", len(pcap))\n",
    "print(pcap)"
   ]
  },
  {
   "cell_type": "markdown",
   "id": "cc77e9dd",
   "metadata": {},
   "source": [
    "### Añada al pcap de 100 paquetes el archivo analisis_paquetes.pcap "
   ]
  },
  {
   "cell_type": "code",
   "execution_count": 10,
   "id": "15fbd501",
   "metadata": {},
   "outputs": [
    {
     "name": "stdout",
     "output_type": "stream",
     "text": [
      "<Sniffed+analisis_paquetes.pcap: TCP:67 UDP:91 ICMP:0 Other:4>\n"
     ]
    }
   ],
   "source": [
    "pcap = pcap + info\n",
    "print(pcap)"
   ]
  },
  {
   "cell_type": "markdown",
   "id": "dfeaa274",
   "metadata": {},
   "source": [
    "### Convierta el pcap a un DataFrame "
   ]
  },
  {
   "cell_type": "code",
   "execution_count": 14,
   "id": "4eced089",
   "metadata": {},
   "outputs": [],
   "source": [
    "ip_fields = [field.name for field in IP().fields_desc]\n",
    "tcp_fields = [field.name for field in TCP().fields_desc]\n",
    "udp_fields = [field.name for field in UDP().fields_desc]\n",
    "\n",
    "dataframe_fields = ip_fields + [\"time\"] + tcp_fields + ['payload','payload_raw','payload_hex']\n",
    "\n",
    "df = pd.DataFrame(columns = dataframe_fields)\n",
    "\n",
    "for packet in pcap[IP]:\n",
    "    field_values = []\n",
    "    for field in ip_fields:\n",
    "        if field == \"options\":\n",
    "            field_values.append(len(packet[IP].fields[field]))\n",
    "        else:\n",
    "            field_values.append(packet[IP].fields[field])\n",
    "    field_values.append(packet.time)\n",
    "    layer_type = type(packet[IP].payload)\n",
    "    for field in tcp_fields:\n",
    "        try:\n",
    "            if field ==\"options\":\n",
    "                field_values.append(len(packet[layer_type].fields[field]))\n",
    "            else:\n",
    "                field_values.append(packet[layer_type].fields[field])\n",
    "        except:\n",
    "            field_values.append(None)\n",
    "    \n",
    "    field_values.append(len(packet[layer_type].payload))\n",
    "    field_values.append(packet[layer_type].payload.original)\n",
    "    field_values.append(binascii.hexlify(packet[layer_type].payload.original))\n",
    "    \n",
    "    df_append = pd.DataFrame([field_values], columns=dataframe_fields)\n",
    "    df = pd.concat([df, df_append], axis=0)\n"
   ]
  },
  {
   "cell_type": "code",
   "execution_count": 17,
   "id": "50d904b0",
   "metadata": {},
   "outputs": [
    {
     "data": {
      "text/html": [
       "<div>\n",
       "<style scoped>\n",
       "    .dataframe tbody tr th:only-of-type {\n",
       "        vertical-align: middle;\n",
       "    }\n",
       "\n",
       "    .dataframe tbody tr th {\n",
       "        vertical-align: top;\n",
       "    }\n",
       "\n",
       "    .dataframe thead th {\n",
       "        text-align: right;\n",
       "    }\n",
       "</style>\n",
       "<table border=\"1\" class=\"dataframe\">\n",
       "  <thead>\n",
       "    <tr style=\"text-align: right;\">\n",
       "      <th></th>\n",
       "      <th>version</th>\n",
       "      <th>ihl</th>\n",
       "      <th>tos</th>\n",
       "      <th>len</th>\n",
       "      <th>id</th>\n",
       "      <th>flags</th>\n",
       "      <th>frag</th>\n",
       "      <th>ttl</th>\n",
       "      <th>proto</th>\n",
       "      <th>chksum</th>\n",
       "      <th>...</th>\n",
       "      <th>dataofs</th>\n",
       "      <th>reserved</th>\n",
       "      <th>flags</th>\n",
       "      <th>window</th>\n",
       "      <th>chksum</th>\n",
       "      <th>urgptr</th>\n",
       "      <th>options</th>\n",
       "      <th>payload</th>\n",
       "      <th>payload_raw</th>\n",
       "      <th>payload_hex</th>\n",
       "    </tr>\n",
       "  </thead>\n",
       "  <tbody>\n",
       "    <tr>\n",
       "      <th>0</th>\n",
       "      <td>4</td>\n",
       "      <td>5</td>\n",
       "      <td>184</td>\n",
       "      <td>257</td>\n",
       "      <td>788</td>\n",
       "      <td>DF</td>\n",
       "      <td>0</td>\n",
       "      <td>64</td>\n",
       "      <td>6</td>\n",
       "      <td>0</td>\n",
       "      <td>...</td>\n",
       "      <td>5</td>\n",
       "      <td>0</td>\n",
       "      <td>PA</td>\n",
       "      <td>33</td>\n",
       "      <td>13670</td>\n",
       "      <td>0</td>\n",
       "      <td>0</td>\n",
       "      <td>217</td>\n",
       "      <td>b'\\x17\\x03\\x03\\x00\\xd4\\r\\xd8\\xd2[\\xf4\\xc2&gt;\\xf9...</td>\n",
       "      <td>b'17030300d40dd8d25bf4c23ef91ba044aab7c7ea61ab...</td>\n",
       "    </tr>\n",
       "    <tr>\n",
       "      <th>1</th>\n",
       "      <td>4</td>\n",
       "      <td>5</td>\n",
       "      <td>0</td>\n",
       "      <td>40</td>\n",
       "      <td>15920</td>\n",
       "      <td>DF</td>\n",
       "      <td>0</td>\n",
       "      <td>48</td>\n",
       "      <td>6</td>\n",
       "      <td>37138</td>\n",
       "      <td>...</td>\n",
       "      <td>5</td>\n",
       "      <td>0</td>\n",
       "      <td>A</td>\n",
       "      <td>27</td>\n",
       "      <td>40176</td>\n",
       "      <td>0</td>\n",
       "      <td>None</td>\n",
       "      <td>0</td>\n",
       "      <td>b''</td>\n",
       "      <td>b''</td>\n",
       "    </tr>\n",
       "    <tr>\n",
       "      <th>2</th>\n",
       "      <td>4</td>\n",
       "      <td>5</td>\n",
       "      <td>0</td>\n",
       "      <td>235</td>\n",
       "      <td>15921</td>\n",
       "      <td>DF</td>\n",
       "      <td>0</td>\n",
       "      <td>48</td>\n",
       "      <td>6</td>\n",
       "      <td>36942</td>\n",
       "      <td>...</td>\n",
       "      <td>5</td>\n",
       "      <td>0</td>\n",
       "      <td>PA</td>\n",
       "      <td>27</td>\n",
       "      <td>40339</td>\n",
       "      <td>0</td>\n",
       "      <td>0</td>\n",
       "      <td>195</td>\n",
       "      <td>b'\\x17\\x03\\x03\\x00\\xbe\\x15kn\\x1d\\xaf\\x00\\xd7\\x...</td>\n",
       "      <td>b'17030300be156b6e1daf00d7956cb1c2254d486d7a36...</td>\n",
       "    </tr>\n",
       "    <tr>\n",
       "      <th>3</th>\n",
       "      <td>4</td>\n",
       "      <td>5</td>\n",
       "      <td>0</td>\n",
       "      <td>77</td>\n",
       "      <td>24181</td>\n",
       "      <td></td>\n",
       "      <td>0</td>\n",
       "      <td>64</td>\n",
       "      <td>17</td>\n",
       "      <td>0</td>\n",
       "      <td>...</td>\n",
       "      <td>None</td>\n",
       "      <td>None</td>\n",
       "      <td>None</td>\n",
       "      <td>None</td>\n",
       "      <td>33755</td>\n",
       "      <td>None</td>\n",
       "      <td>None</td>\n",
       "      <td>49</td>\n",
       "      <td>b'L6\\x01\\x00\\x00\\x01\\x00\\x00\\x00\\x00\\x00\\x00\\x...</td>\n",
       "      <td>b'4c360100000100000000000010636f6e74656e742d61...</td>\n",
       "    </tr>\n",
       "    <tr>\n",
       "      <th>4</th>\n",
       "      <td>4</td>\n",
       "      <td>5</td>\n",
       "      <td>184</td>\n",
       "      <td>40</td>\n",
       "      <td>789</td>\n",
       "      <td>DF</td>\n",
       "      <td>0</td>\n",
       "      <td>64</td>\n",
       "      <td>6</td>\n",
       "      <td>0</td>\n",
       "      <td>...</td>\n",
       "      <td>5</td>\n",
       "      <td>0</td>\n",
       "      <td>A</td>\n",
       "      <td>32</td>\n",
       "      <td>39976</td>\n",
       "      <td>0</td>\n",
       "      <td>None</td>\n",
       "      <td>0</td>\n",
       "      <td>b''</td>\n",
       "      <td>b''</td>\n",
       "    </tr>\n",
       "    <tr>\n",
       "      <th>5</th>\n",
       "      <td>4</td>\n",
       "      <td>5</td>\n",
       "      <td>0</td>\n",
       "      <td>93</td>\n",
       "      <td>0</td>\n",
       "      <td>DF</td>\n",
       "      <td>0</td>\n",
       "      <td>64</td>\n",
       "      <td>17</td>\n",
       "      <td>46847</td>\n",
       "      <td>...</td>\n",
       "      <td>None</td>\n",
       "      <td>None</td>\n",
       "      <td>None</td>\n",
       "      <td>None</td>\n",
       "      <td>24533</td>\n",
       "      <td>None</td>\n",
       "      <td>None</td>\n",
       "      <td>65</td>\n",
       "      <td>b'L6\\x81\\x80\\x00\\x01\\x00\\x01\\x00\\x00\\x00\\x00\\x...</td>\n",
       "      <td>b'4c368180000100010000000010636f6e74656e742d61...</td>\n",
       "    </tr>\n",
       "    <tr>\n",
       "      <th>6</th>\n",
       "      <td>4</td>\n",
       "      <td>5</td>\n",
       "      <td>184</td>\n",
       "      <td>1278</td>\n",
       "      <td>43569</td>\n",
       "      <td>DF</td>\n",
       "      <td>0</td>\n",
       "      <td>64</td>\n",
       "      <td>17</td>\n",
       "      <td>0</td>\n",
       "      <td>...</td>\n",
       "      <td>None</td>\n",
       "      <td>None</td>\n",
       "      <td>None</td>\n",
       "      <td>None</td>\n",
       "      <td>28958</td>\n",
       "      <td>None</td>\n",
       "      <td>None</td>\n",
       "      <td>1250</td>\n",
       "      <td>b'\\xc5\\x00\\x00\\x00\\x01\\x08\\x87E\\x0f\\xfd\\xcd\\x9...</td>\n",
       "      <td>b'c5000000010887450ffdcd99d880004046004493d2e5...</td>\n",
       "    </tr>\n",
       "    <tr>\n",
       "      <th>7</th>\n",
       "      <td>4</td>\n",
       "      <td>5</td>\n",
       "      <td>0</td>\n",
       "      <td>102</td>\n",
       "      <td>43570</td>\n",
       "      <td>DF</td>\n",
       "      <td>0</td>\n",
       "      <td>64</td>\n",
       "      <td>17</td>\n",
       "      <td>0</td>\n",
       "      <td>...</td>\n",
       "      <td>None</td>\n",
       "      <td>None</td>\n",
       "      <td>None</td>\n",
       "      <td>None</td>\n",
       "      <td>3792</td>\n",
       "      <td>None</td>\n",
       "      <td>None</td>\n",
       "      <td>74</td>\n",
       "      <td>b\"\\xd4\\x00\\x00\\x00\\x01\\x08\\x87E\\x0f\\xfd\\xcd\\x9...</td>\n",
       "      <td>b'd4000000010887450ffdcd99d880004039ea1dbfe491...</td>\n",
       "    </tr>\n",
       "    <tr>\n",
       "      <th>8</th>\n",
       "      <td>4</td>\n",
       "      <td>5</td>\n",
       "      <td>0</td>\n",
       "      <td>567</td>\n",
       "      <td>43571</td>\n",
       "      <td>DF</td>\n",
       "      <td>0</td>\n",
       "      <td>64</td>\n",
       "      <td>17</td>\n",
       "      <td>0</td>\n",
       "      <td>...</td>\n",
       "      <td>None</td>\n",
       "      <td>None</td>\n",
       "      <td>None</td>\n",
       "      <td>None</td>\n",
       "      <td>4257</td>\n",
       "      <td>None</td>\n",
       "      <td>None</td>\n",
       "      <td>539</td>\n",
       "      <td>b'\\xd2\\x00\\x00\\x00\\x01\\x08\\x87E\\x0f\\xfd\\xcd\\x9...</td>\n",
       "      <td>b'd2000000010887450ffdcd99d88000420ae354de470a...</td>\n",
       "    </tr>\n",
       "    <tr>\n",
       "      <th>9</th>\n",
       "      <td>4</td>\n",
       "      <td>5</td>\n",
       "      <td>0</td>\n",
       "      <td>1278</td>\n",
       "      <td>0</td>\n",
       "      <td>DF</td>\n",
       "      <td>0</td>\n",
       "      <td>59</td>\n",
       "      <td>17</td>\n",
       "      <td>11395</td>\n",
       "      <td>...</td>\n",
       "      <td>None</td>\n",
       "      <td>None</td>\n",
       "      <td>None</td>\n",
       "      <td>None</td>\n",
       "      <td>36532</td>\n",
       "      <td>None</td>\n",
       "      <td>None</td>\n",
       "      <td>1250</td>\n",
       "      <td>b'\\xc5\\x00\\x00\\x00\\x01\\x00\\x08\\x87E\\x0f\\xfd\\xc...</td>\n",
       "      <td>b'c500000001000887450ffdcd99d88000438f124f4422...</td>\n",
       "    </tr>\n",
       "  </tbody>\n",
       "</table>\n",
       "<p>10 rows × 28 columns</p>\n",
       "</div>"
      ],
      "text/plain": [
       "  version ihl  tos   len     id flags frag ttl proto chksum  ... dataofs  \\\n",
       "0       4   5  184   257    788    DF    0  64     6      0  ...       5   \n",
       "1       4   5    0    40  15920    DF    0  48     6  37138  ...       5   \n",
       "2       4   5    0   235  15921    DF    0  48     6  36942  ...       5   \n",
       "3       4   5    0    77  24181          0  64    17      0  ...    None   \n",
       "4       4   5  184    40    789    DF    0  64     6      0  ...       5   \n",
       "5       4   5    0    93      0    DF    0  64    17  46847  ...    None   \n",
       "6       4   5  184  1278  43569    DF    0  64    17      0  ...    None   \n",
       "7       4   5    0   102  43570    DF    0  64    17      0  ...    None   \n",
       "8       4   5    0   567  43571    DF    0  64    17      0  ...    None   \n",
       "9       4   5    0  1278      0    DF    0  59    17  11395  ...    None   \n",
       "\n",
       "  reserved flags window chksum urgptr options payload  \\\n",
       "0        0    PA     33  13670      0       0     217   \n",
       "1        0     A     27  40176      0    None       0   \n",
       "2        0    PA     27  40339      0       0     195   \n",
       "3     None  None   None  33755   None    None      49   \n",
       "4        0     A     32  39976      0    None       0   \n",
       "5     None  None   None  24533   None    None      65   \n",
       "6     None  None   None  28958   None    None    1250   \n",
       "7     None  None   None   3792   None    None      74   \n",
       "8     None  None   None   4257   None    None     539   \n",
       "9     None  None   None  36532   None    None    1250   \n",
       "\n",
       "                                         payload_raw  \\\n",
       "0  b'\\x17\\x03\\x03\\x00\\xd4\\r\\xd8\\xd2[\\xf4\\xc2>\\xf9...   \n",
       "1                                                b''   \n",
       "2  b'\\x17\\x03\\x03\\x00\\xbe\\x15kn\\x1d\\xaf\\x00\\xd7\\x...   \n",
       "3  b'L6\\x01\\x00\\x00\\x01\\x00\\x00\\x00\\x00\\x00\\x00\\x...   \n",
       "4                                                b''   \n",
       "5  b'L6\\x81\\x80\\x00\\x01\\x00\\x01\\x00\\x00\\x00\\x00\\x...   \n",
       "6  b'\\xc5\\x00\\x00\\x00\\x01\\x08\\x87E\\x0f\\xfd\\xcd\\x9...   \n",
       "7  b\"\\xd4\\x00\\x00\\x00\\x01\\x08\\x87E\\x0f\\xfd\\xcd\\x9...   \n",
       "8  b'\\xd2\\x00\\x00\\x00\\x01\\x08\\x87E\\x0f\\xfd\\xcd\\x9...   \n",
       "9  b'\\xc5\\x00\\x00\\x00\\x01\\x00\\x08\\x87E\\x0f\\xfd\\xc...   \n",
       "\n",
       "                                         payload_hex  \n",
       "0  b'17030300d40dd8d25bf4c23ef91ba044aab7c7ea61ab...  \n",
       "1                                                b''  \n",
       "2  b'17030300be156b6e1daf00d7956cb1c2254d486d7a36...  \n",
       "3  b'4c360100000100000000000010636f6e74656e742d61...  \n",
       "4                                                b''  \n",
       "5  b'4c368180000100010000000010636f6e74656e742d61...  \n",
       "6  b'c5000000010887450ffdcd99d880004046004493d2e5...  \n",
       "7  b'd4000000010887450ffdcd99d880004039ea1dbfe491...  \n",
       "8  b'd2000000010887450ffdcd99d88000420ae354de470a...  \n",
       "9  b'c500000001000887450ffdcd99d88000438f124f4422...  \n",
       "\n",
       "[10 rows x 28 columns]"
      ]
     },
     "execution_count": 17,
     "metadata": {},
     "output_type": "execute_result"
    }
   ],
   "source": [
    "# pcap_file = rdpcap('analisis_paquetes.pcap')\n",
    "# df = create_dataframe(pcap_file)\n",
    "\n",
    "df = df.reset_index()\n",
    "df = df.drop(columns=\"index\")\n",
    "df.head(10)"
   ]
  },
  {
   "cell_type": "markdown",
   "id": "ea5c0e85",
   "metadata": {},
   "source": [
    "### Muestre los valores de las columnas: Src Addres, Dst Address, Src Port y Dst Port "
   ]
  },
  {
   "cell_type": "code",
   "execution_count": 18,
   "id": "9cd3bb8c",
   "metadata": {},
   "outputs": [
    {
     "data": {
      "text/html": [
       "<div>\n",
       "<style scoped>\n",
       "    .dataframe tbody tr th:only-of-type {\n",
       "        vertical-align: middle;\n",
       "    }\n",
       "\n",
       "    .dataframe tbody tr th {\n",
       "        vertical-align: top;\n",
       "    }\n",
       "\n",
       "    .dataframe thead th {\n",
       "        text-align: right;\n",
       "    }\n",
       "</style>\n",
       "<table border=\"1\" class=\"dataframe\">\n",
       "  <thead>\n",
       "    <tr style=\"text-align: right;\">\n",
       "      <th></th>\n",
       "      <th>src</th>\n",
       "      <th>dst</th>\n",
       "      <th>sport</th>\n",
       "      <th>dport</th>\n",
       "    </tr>\n",
       "  </thead>\n",
       "  <tbody>\n",
       "    <tr>\n",
       "      <th>0</th>\n",
       "      <td>192.168.1.63</td>\n",
       "      <td>170.114.15.52</td>\n",
       "      <td>4139</td>\n",
       "      <td>443</td>\n",
       "    </tr>\n",
       "    <tr>\n",
       "      <th>1</th>\n",
       "      <td>170.114.15.52</td>\n",
       "      <td>192.168.1.63</td>\n",
       "      <td>443</td>\n",
       "      <td>4139</td>\n",
       "    </tr>\n",
       "    <tr>\n",
       "      <th>2</th>\n",
       "      <td>170.114.15.52</td>\n",
       "      <td>192.168.1.63</td>\n",
       "      <td>443</td>\n",
       "      <td>4139</td>\n",
       "    </tr>\n",
       "    <tr>\n",
       "      <th>3</th>\n",
       "      <td>192.168.1.63</td>\n",
       "      <td>192.168.1.1</td>\n",
       "      <td>56236</td>\n",
       "      <td>53</td>\n",
       "    </tr>\n",
       "    <tr>\n",
       "      <th>4</th>\n",
       "      <td>192.168.1.63</td>\n",
       "      <td>170.114.15.52</td>\n",
       "      <td>4139</td>\n",
       "      <td>443</td>\n",
       "    </tr>\n",
       "    <tr>\n",
       "      <th>...</th>\n",
       "      <td>...</td>\n",
       "      <td>...</td>\n",
       "      <td>...</td>\n",
       "      <td>...</td>\n",
       "    </tr>\n",
       "    <tr>\n",
       "      <th>153</th>\n",
       "      <td>84.54.22.33</td>\n",
       "      <td>10.1.10.53</td>\n",
       "      <td>53</td>\n",
       "      <td>53</td>\n",
       "    </tr>\n",
       "    <tr>\n",
       "      <th>154</th>\n",
       "      <td>10.1.10.53</td>\n",
       "      <td>84.54.22.33</td>\n",
       "      <td>53</td>\n",
       "      <td>53</td>\n",
       "    </tr>\n",
       "    <tr>\n",
       "      <th>155</th>\n",
       "      <td>84.54.22.33</td>\n",
       "      <td>10.1.10.53</td>\n",
       "      <td>53</td>\n",
       "      <td>53</td>\n",
       "    </tr>\n",
       "    <tr>\n",
       "      <th>156</th>\n",
       "      <td>10.1.10.53</td>\n",
       "      <td>84.54.22.33</td>\n",
       "      <td>53</td>\n",
       "      <td>53</td>\n",
       "    </tr>\n",
       "    <tr>\n",
       "      <th>157</th>\n",
       "      <td>84.54.22.33</td>\n",
       "      <td>10.1.10.53</td>\n",
       "      <td>53</td>\n",
       "      <td>53</td>\n",
       "    </tr>\n",
       "  </tbody>\n",
       "</table>\n",
       "<p>158 rows × 4 columns</p>\n",
       "</div>"
      ],
      "text/plain": [
       "               src            dst  sport dport\n",
       "0     192.168.1.63  170.114.15.52   4139   443\n",
       "1    170.114.15.52   192.168.1.63    443  4139\n",
       "2    170.114.15.52   192.168.1.63    443  4139\n",
       "3     192.168.1.63    192.168.1.1  56236    53\n",
       "4     192.168.1.63  170.114.15.52   4139   443\n",
       "..             ...            ...    ...   ...\n",
       "153    84.54.22.33     10.1.10.53     53    53\n",
       "154     10.1.10.53    84.54.22.33     53    53\n",
       "155    84.54.22.33     10.1.10.53     53    53\n",
       "156     10.1.10.53    84.54.22.33     53    53\n",
       "157    84.54.22.33     10.1.10.53     53    53\n",
       "\n",
       "[158 rows x 4 columns]"
      ]
     },
     "execution_count": 18,
     "metadata": {},
     "output_type": "execute_result"
    }
   ],
   "source": [
    "df[['src','dst','sport','dport']]"
   ]
  },
  {
   "cell_type": "markdown",
   "id": "50581bb5",
   "metadata": {},
   "source": [
    "### Estadisticas"
   ]
  },
  {
   "cell_type": "markdown",
   "id": "c5b5c996",
   "metadata": {},
   "source": [
    "#### Muestre cual es la IP origen que más aparece "
   ]
  },
  {
   "cell_type": "code",
   "execution_count": 19,
   "id": "1be164d1",
   "metadata": {},
   "outputs": [
    {
     "name": "stdout",
     "output_type": "stream",
     "text": [
      "192.168.1.63\n"
     ]
    }
   ],
   "source": [
    "frequent_src_address = df['src'].describe()['top']\n",
    "print(frequent_src_address)"
   ]
  },
  {
   "cell_type": "markdown",
   "id": "e421b750",
   "metadata": {},
   "source": [
    "#### Muestre cual es la IP destino que más aparece "
   ]
  },
  {
   "cell_type": "code",
   "execution_count": 20,
   "id": "e465a3fe",
   "metadata": {},
   "outputs": [
    {
     "name": "stdout",
     "output_type": "stream",
     "text": [
      "192.168.1.63\n"
     ]
    }
   ],
   "source": [
    "frequent_dst_address = df['dst'].describe()['top']\n",
    "print(frequent_dst_address)"
   ]
  },
  {
   "cell_type": "markdown",
   "id": "f423b20b",
   "metadata": {},
   "source": [
    "#### ¿A qué IPs se comunica la IP del inciso a? "
   ]
  },
  {
   "cell_type": "code",
   "execution_count": 21,
   "id": "dd807d16",
   "metadata": {},
   "outputs": [
    {
     "name": "stdout",
     "output_type": "stream",
     "text": [
      "['170.114.15.52' '192.168.1.1' '142.250.189.138' '192.168.1.255'\n",
      " '151.101.4.193' '151.101.65.69' '151.101.129.69' '34.224.19.92'\n",
      " '149.154.175.51' '142.250.217.196' '142.250.217.174' '140.82.112.26'\n",
      " '239.255.255.250']\n"
     ]
    }
   ],
   "source": [
    "print(df[df['src'] == frequent_src_address]['dst'].unique())"
   ]
  },
  {
   "cell_type": "markdown",
   "id": "cbfc5deb",
   "metadata": {},
   "source": [
    "#### ¿A qué puertos destino se comunica la IP del inciso a? "
   ]
  },
  {
   "cell_type": "code",
   "execution_count": 22,
   "id": "ec1ee5e0",
   "metadata": {},
   "outputs": [
    {
     "name": "stdout",
     "output_type": "stream",
     "text": [
      "[443 53 51007 1900]\n"
     ]
    }
   ],
   "source": [
    "print(df[df['src'] == frequent_src_address]['dport'].unique())"
   ]
  },
  {
   "cell_type": "markdown",
   "id": "d04f598b",
   "metadata": {},
   "source": [
    "#### ¿A qué puertos origen se comunica la IP del inciso a? "
   ]
  },
  {
   "cell_type": "code",
   "execution_count": 23,
   "id": "b8bd3a26",
   "metadata": {},
   "outputs": [
    {
     "name": "stdout",
     "output_type": "stream",
     "text": [
      "[4139 56236 56402 49227 4490 4486 4488 4572 4258 4574 4575 4580 4316 60054\n",
      " 4581 4582]\n"
     ]
    }
   ],
   "source": [
    "print(df[df['src'] == frequent_src_address]['sport'].unique())"
   ]
  },
  {
   "cell_type": "markdown",
   "id": "6c1e4436",
   "metadata": {},
   "source": [
    "#### ¿Para que se utiliza el puerto que más aparece en el inciso  d y e? "
   ]
  },
  {
   "cell_type": "markdown",
   "id": "ed896449",
   "metadata": {},
   "source": [
    "Se utiliza para el protocolo TCP. Se necesita que sea origen y destino"
   ]
  },
  {
   "cell_type": "code",
   "execution_count": null,
   "id": "01616eb2",
   "metadata": {},
   "outputs": [],
   "source": []
  }
 ],
 "metadata": {
  "kernelspec": {
   "display_name": "Python 3",
   "language": "python",
   "name": "python3"
  },
  "language_info": {
   "codemirror_mode": {
    "name": "ipython",
    "version": 3
   },
   "file_extension": ".py",
   "mimetype": "text/x-python",
   "name": "python",
   "nbconvert_exporter": "python",
   "pygments_lexer": "ipython3",
   "version": "3.8.8"
  }
 },
 "nbformat": 4,
 "nbformat_minor": 5
}
